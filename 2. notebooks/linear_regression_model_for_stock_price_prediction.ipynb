{
 "cells": [
  {
   "cell_type": "markdown",
   "metadata": {
    "id": "z732hgQ2ciNC"
   },
   "source": [
    "# 📉📊📈**Stock Price Prediction Using Different Machine Learning Models and Compare the Performance of the Models**📉📊📈\n",
    "\n",
    "\n"
   ]
  },
  {
   "cell_type": "markdown",
   "metadata": {
    "id": "pVSJAsWx6jEz"
   },
   "source": [
    "The stock price forecast is one of the most preferred topics and most interesting topics in the science industry. However, stock market price forecasts are challenging compared to other price forecasting case studies. Many scholars and industry experts have come to a greater consensus a decade. They have studied stocks in various fields such as Computer Science, Economics, Business Arithmetic, and Marketing price forecasts. The stock has been identified according to them as a random walking behavior at market prices. The sudden rises and falls have been the main reason behind stock market price forecasting being a big challenge. An efficient and accurate. stock market forecasting model will help managers, investors, and decision-makers make the right decisions regarding their investments. Machine learning techniques used to predict stock prices include the analysis of historical data to predict the likelihood of a future event or to predict future performance. This is done by looking at patterns of data that include current and past information and finding the most suitable predictive models."
   ]
  },
  {
   "cell_type": "markdown",
   "metadata": {
    "id": "VUbbWNHO86Ay"
   },
   "source": [
    "# ✅ **Linear Regression** ✅"
   ]
  },
  {
   "cell_type": "markdown",
   "metadata": {
    "id": "wqpTHaa4PthQ"
   },
   "source": [
    "Linear regression attempts to model the relationship between two variables by fitting a linear equation to observed data. One variable is considered to be an explanatory variable, and the other is considered to be a dependent variable. For example, a modeler might want to relate the weights of individuals to their heights using a linear regression model."
   ]
  },
  {
   "cell_type": "markdown",
   "metadata": {
    "id": "bC-terfV7pNG"
   },
   "source": [
    "# **Import Libraries**"
   ]
  },
  {
   "cell_type": "code",
   "execution_count": 1,
   "metadata": {
    "colab": {
     "base_uri": "https://localhost:8080/"
    },
    "id": "dU8vV5fKJZNm",
    "outputId": "f59c7621-4140-4874-f9b7-0f3432e8f958"
   },
   "outputs": [
    {
     "name": "stdout",
     "output_type": "stream",
     "text": [
      "Requirement already satisfied: yfinance in c:\\anaconda3\\lib\\site-packages (0.1.70)\n",
      "Requirement already satisfied: requests>=2.26 in c:\\anaconda3\\lib\\site-packages (from yfinance) (2.27.1)\n",
      "Requirement already satisfied: multitasking>=0.0.7 in c:\\anaconda3\\lib\\site-packages (from yfinance) (0.0.10)\n",
      "Requirement already satisfied: lxml>=4.5.1 in c:\\anaconda3\\lib\\site-packages (from yfinance) (4.8.0)\n",
      "Requirement already satisfied: numpy>=1.15 in c:\\anaconda3\\lib\\site-packages (from yfinance) (1.21.5)\n",
      "Requirement already satisfied: pandas>=0.24.0 in c:\\anaconda3\\lib\\site-packages (from yfinance) (1.4.2)\n",
      "Requirement already satisfied: python-dateutil>=2.8.1 in c:\\anaconda3\\lib\\site-packages (from pandas>=0.24.0->yfinance) (2.8.2)\n",
      "Requirement already satisfied: pytz>=2020.1 in c:\\anaconda3\\lib\\site-packages (from pandas>=0.24.0->yfinance) (2021.3)\n",
      "Requirement already satisfied: six>=1.5 in c:\\anaconda3\\lib\\site-packages (from python-dateutil>=2.8.1->pandas>=0.24.0->yfinance) (1.16.0)\n",
      "Requirement already satisfied: idna<4,>=2.5 in c:\\anaconda3\\lib\\site-packages (from requests>=2.26->yfinance) (3.3)\n",
      "Requirement already satisfied: certifi>=2017.4.17 in c:\\anaconda3\\lib\\site-packages (from requests>=2.26->yfinance) (2021.10.8)\n",
      "Requirement already satisfied: charset-normalizer~=2.0.0 in c:\\anaconda3\\lib\\site-packages (from requests>=2.26->yfinance) (2.0.4)\n",
      "Requirement already satisfied: urllib3<1.27,>=1.21.1 in c:\\anaconda3\\lib\\site-packages (from requests>=2.26->yfinance) (1.26.9)\n"
     ]
    }
   ],
   "source": [
    "# yahoo_finance is used to fetch data \n",
    "!pip install yfinance"
   ]
  },
  {
   "cell_type": "code",
   "execution_count": 2,
   "metadata": {
    "id": "gAv4FjmT9AJy"
   },
   "outputs": [],
   "source": [
    "# import libraries\n",
    "import numpy as np\n",
    "import pandas as pd\n",
    "import matplotlib.pyplot as plt\n",
    "import seaborn as sns\n",
    "\n",
    "import warnings\n",
    "warnings.filterwarnings(\"ignore\")\n",
    "\n",
    "# yahoo_finance is used to fetch data \n",
    "import yfinance as yf\n",
    "yf.pdr_override()"
   ]
  },
  {
   "cell_type": "markdown",
   "metadata": {},
   "source": [
    "# **Load Dataset into the Data Frame**"
   ]
  },
  {
   "cell_type": "code",
   "execution_count": 3,
   "metadata": {},
   "outputs": [
    {
     "name": "stdout",
     "output_type": "stream",
     "text": [
      "[*********************100%***********************]  1 of 1 completed\n"
     ]
    },
    {
     "data": {
      "text/html": [
       "<div>\n",
       "<style scoped>\n",
       "    .dataframe tbody tr th:only-of-type {\n",
       "        vertical-align: middle;\n",
       "    }\n",
       "\n",
       "    .dataframe tbody tr th {\n",
       "        vertical-align: top;\n",
       "    }\n",
       "\n",
       "    .dataframe thead th {\n",
       "        text-align: right;\n",
       "    }\n",
       "</style>\n",
       "<table border=\"1\" class=\"dataframe\">\n",
       "  <thead>\n",
       "    <tr style=\"text-align: right;\">\n",
       "      <th></th>\n",
       "      <th>Open</th>\n",
       "      <th>High</th>\n",
       "      <th>Low</th>\n",
       "      <th>Close</th>\n",
       "      <th>Adj Close</th>\n",
       "      <th>Volume</th>\n",
       "    </tr>\n",
       "    <tr>\n",
       "      <th>Date</th>\n",
       "      <th></th>\n",
       "      <th></th>\n",
       "      <th></th>\n",
       "      <th></th>\n",
       "      <th></th>\n",
       "      <th></th>\n",
       "    </tr>\n",
       "  </thead>\n",
       "  <tbody>\n",
       "    <tr>\n",
       "      <th>2007-01-03</th>\n",
       "      <td>20.080000</td>\n",
       "      <td>20.400000</td>\n",
       "      <td>19.350000</td>\n",
       "      <td>19.520000</td>\n",
       "      <td>19.520000</td>\n",
       "      <td>28350300</td>\n",
       "    </tr>\n",
       "    <tr>\n",
       "      <th>2007-01-04</th>\n",
       "      <td>19.660000</td>\n",
       "      <td>19.860001</td>\n",
       "      <td>19.320000</td>\n",
       "      <td>19.790001</td>\n",
       "      <td>19.790001</td>\n",
       "      <td>23652500</td>\n",
       "    </tr>\n",
       "    <tr>\n",
       "      <th>2007-01-05</th>\n",
       "      <td>19.540001</td>\n",
       "      <td>19.910000</td>\n",
       "      <td>19.540001</td>\n",
       "      <td>19.709999</td>\n",
       "      <td>19.709999</td>\n",
       "      <td>15902400</td>\n",
       "    </tr>\n",
       "    <tr>\n",
       "      <th>2007-01-08</th>\n",
       "      <td>19.709999</td>\n",
       "      <td>19.860001</td>\n",
       "      <td>19.370001</td>\n",
       "      <td>19.469999</td>\n",
       "      <td>19.469999</td>\n",
       "      <td>15814800</td>\n",
       "    </tr>\n",
       "    <tr>\n",
       "      <th>2007-01-09</th>\n",
       "      <td>19.450001</td>\n",
       "      <td>19.709999</td>\n",
       "      <td>19.370001</td>\n",
       "      <td>19.650000</td>\n",
       "      <td>19.650000</td>\n",
       "      <td>14494200</td>\n",
       "    </tr>\n",
       "  </tbody>\n",
       "</table>\n",
       "</div>"
      ],
      "text/plain": [
       "                 Open       High        Low      Close  Adj Close    Volume\n",
       "Date                                                                       \n",
       "2007-01-03  20.080000  20.400000  19.350000  19.520000  19.520000  28350300\n",
       "2007-01-04  19.660000  19.860001  19.320000  19.790001  19.790001  23652500\n",
       "2007-01-05  19.540001  19.910000  19.540001  19.709999  19.709999  15902400\n",
       "2007-01-08  19.709999  19.860001  19.370001  19.469999  19.469999  15814800\n",
       "2007-01-09  19.450001  19.709999  19.370001  19.650000  19.650000  14494200"
      ]
     },
     "execution_count": 3,
     "metadata": {},
     "output_type": "execute_result"
    }
   ],
   "source": [
    "# input\n",
    "symbol = 'AMD'\n",
    "start = '2007-01-01'\n",
    "end = '2018-12-31'\n",
    "\n",
    "# read data \n",
    "dataset = yf.download(symbol,start,end)\n",
    "\n",
    "# view columns\n",
    "dataset.head()"
   ]
  },
  {
   "cell_type": "markdown",
   "metadata": {},
   "source": [
    "# **Dataset Preprocessing**"
   ]
  },
  {
   "cell_type": "code",
   "execution_count": 4,
   "metadata": {},
   "outputs": [
    {
     "data": {
      "text/html": [
       "<div>\n",
       "<style scoped>\n",
       "    .dataframe tbody tr th:only-of-type {\n",
       "        vertical-align: middle;\n",
       "    }\n",
       "\n",
       "    .dataframe tbody tr th {\n",
       "        vertical-align: top;\n",
       "    }\n",
       "\n",
       "    .dataframe thead th {\n",
       "        text-align: right;\n",
       "    }\n",
       "</style>\n",
       "<table border=\"1\" class=\"dataframe\">\n",
       "  <thead>\n",
       "    <tr style=\"text-align: right;\">\n",
       "      <th></th>\n",
       "      <th>Open</th>\n",
       "      <th>High</th>\n",
       "      <th>Low</th>\n",
       "      <th>Close</th>\n",
       "      <th>Adj Close</th>\n",
       "      <th>Volume</th>\n",
       "      <th>Open_Close</th>\n",
       "      <th>High_Low</th>\n",
       "      <th>Increase_Decrease</th>\n",
       "      <th>Buy_Sell_on_Open</th>\n",
       "      <th>Buy_Sell</th>\n",
       "      <th>Returns</th>\n",
       "    </tr>\n",
       "    <tr>\n",
       "      <th>Date</th>\n",
       "      <th></th>\n",
       "      <th></th>\n",
       "      <th></th>\n",
       "      <th></th>\n",
       "      <th></th>\n",
       "      <th></th>\n",
       "      <th></th>\n",
       "      <th></th>\n",
       "      <th></th>\n",
       "      <th></th>\n",
       "      <th></th>\n",
       "      <th></th>\n",
       "    </tr>\n",
       "  </thead>\n",
       "  <tbody>\n",
       "    <tr>\n",
       "      <th>2007-01-04</th>\n",
       "      <td>19.660000</td>\n",
       "      <td>19.860001</td>\n",
       "      <td>19.320000</td>\n",
       "      <td>19.790001</td>\n",
       "      <td>19.790001</td>\n",
       "      <td>23652500</td>\n",
       "      <td>-0.006612</td>\n",
       "      <td>0.027950</td>\n",
       "      <td>0</td>\n",
       "      <td>0</td>\n",
       "      <td>0</td>\n",
       "      <td>0.013832</td>\n",
       "    </tr>\n",
       "    <tr>\n",
       "      <th>2007-01-05</th>\n",
       "      <td>19.540001</td>\n",
       "      <td>19.910000</td>\n",
       "      <td>19.540001</td>\n",
       "      <td>19.709999</td>\n",
       "      <td>19.709999</td>\n",
       "      <td>15902400</td>\n",
       "      <td>-0.008700</td>\n",
       "      <td>0.018935</td>\n",
       "      <td>0</td>\n",
       "      <td>1</td>\n",
       "      <td>0</td>\n",
       "      <td>-0.004043</td>\n",
       "    </tr>\n",
       "    <tr>\n",
       "      <th>2007-01-08</th>\n",
       "      <td>19.709999</td>\n",
       "      <td>19.860001</td>\n",
       "      <td>19.370001</td>\n",
       "      <td>19.469999</td>\n",
       "      <td>19.469999</td>\n",
       "      <td>15814800</td>\n",
       "      <td>0.012177</td>\n",
       "      <td>0.025297</td>\n",
       "      <td>0</td>\n",
       "      <td>0</td>\n",
       "      <td>1</td>\n",
       "      <td>-0.012177</td>\n",
       "    </tr>\n",
       "    <tr>\n",
       "      <th>2007-01-09</th>\n",
       "      <td>19.450001</td>\n",
       "      <td>19.709999</td>\n",
       "      <td>19.370001</td>\n",
       "      <td>19.650000</td>\n",
       "      <td>19.650000</td>\n",
       "      <td>14494200</td>\n",
       "      <td>-0.010283</td>\n",
       "      <td>0.017553</td>\n",
       "      <td>1</td>\n",
       "      <td>1</td>\n",
       "      <td>1</td>\n",
       "      <td>0.009245</td>\n",
       "    </tr>\n",
       "    <tr>\n",
       "      <th>2007-01-10</th>\n",
       "      <td>19.639999</td>\n",
       "      <td>20.020000</td>\n",
       "      <td>19.500000</td>\n",
       "      <td>20.010000</td>\n",
       "      <td>20.010000</td>\n",
       "      <td>19783200</td>\n",
       "      <td>-0.018839</td>\n",
       "      <td>0.026667</td>\n",
       "      <td>1</td>\n",
       "      <td>1</td>\n",
       "      <td>1</td>\n",
       "      <td>0.018321</td>\n",
       "    </tr>\n",
       "  </tbody>\n",
       "</table>\n",
       "</div>"
      ],
      "text/plain": [
       "                 Open       High        Low      Close  Adj Close    Volume  \\\n",
       "Date                                                                          \n",
       "2007-01-04  19.660000  19.860001  19.320000  19.790001  19.790001  23652500   \n",
       "2007-01-05  19.540001  19.910000  19.540001  19.709999  19.709999  15902400   \n",
       "2007-01-08  19.709999  19.860001  19.370001  19.469999  19.469999  15814800   \n",
       "2007-01-09  19.450001  19.709999  19.370001  19.650000  19.650000  14494200   \n",
       "2007-01-10  19.639999  20.020000  19.500000  20.010000  20.010000  19783200   \n",
       "\n",
       "            Open_Close  High_Low  Increase_Decrease  Buy_Sell_on_Open  \\\n",
       "Date                                                                    \n",
       "2007-01-04   -0.006612  0.027950                  0                 0   \n",
       "2007-01-05   -0.008700  0.018935                  0                 1   \n",
       "2007-01-08    0.012177  0.025297                  0                 0   \n",
       "2007-01-09   -0.010283  0.017553                  1                 1   \n",
       "2007-01-10   -0.018839  0.026667                  1                 1   \n",
       "\n",
       "            Buy_Sell   Returns  \n",
       "Date                            \n",
       "2007-01-04         0  0.013832  \n",
       "2007-01-05         0 -0.004043  \n",
       "2007-01-08         1 -0.012177  \n",
       "2007-01-09         1  0.009245  \n",
       "2007-01-10         1  0.018321  "
      ]
     },
     "execution_count": 4,
     "metadata": {},
     "output_type": "execute_result"
    }
   ],
   "source": [
    "dataset['Open_Close'] = (dataset['Open'] - dataset['Adj Close'])/dataset['Open']\n",
    "dataset['High_Low'] = (dataset['High'] - dataset['Low'])/dataset['Low']\n",
    "dataset['Increase_Decrease'] = np.where(dataset['Volume'].shift(-1) > dataset['Volume'],1,0)\n",
    "dataset['Buy_Sell_on_Open'] = np.where(dataset['Open'].shift(-1) > dataset['Open'],1,0)\n",
    "dataset['Buy_Sell'] = np.where(dataset['Adj Close'].shift(-1) > dataset['Adj Close'],1,0)\n",
    "dataset['Returns'] = dataset['Adj Close'].pct_change()\n",
    "dataset = dataset.dropna()\n",
    "dataset.head()"
   ]
  },
  {
   "cell_type": "markdown",
   "metadata": {},
   "source": [
    "# **View Dataset**"
   ]
  },
  {
   "cell_type": "code",
   "execution_count": 5,
   "metadata": {},
   "outputs": [
    {
     "data": {
      "text/html": [
       "<div>\n",
       "<style scoped>\n",
       "    .dataframe tbody tr th:only-of-type {\n",
       "        vertical-align: middle;\n",
       "    }\n",
       "\n",
       "    .dataframe tbody tr th {\n",
       "        vertical-align: top;\n",
       "    }\n",
       "\n",
       "    .dataframe thead th {\n",
       "        text-align: right;\n",
       "    }\n",
       "</style>\n",
       "<table border=\"1\" class=\"dataframe\">\n",
       "  <thead>\n",
       "    <tr style=\"text-align: right;\">\n",
       "      <th></th>\n",
       "      <th>Open</th>\n",
       "      <th>High</th>\n",
       "      <th>Low</th>\n",
       "      <th>Close</th>\n",
       "      <th>Adj Close</th>\n",
       "      <th>Volume</th>\n",
       "      <th>Open_Close</th>\n",
       "      <th>High_Low</th>\n",
       "      <th>Increase_Decrease</th>\n",
       "      <th>Buy_Sell_on_Open</th>\n",
       "      <th>Buy_Sell</th>\n",
       "      <th>Returns</th>\n",
       "    </tr>\n",
       "    <tr>\n",
       "      <th>Date</th>\n",
       "      <th></th>\n",
       "      <th></th>\n",
       "      <th></th>\n",
       "      <th></th>\n",
       "      <th></th>\n",
       "      <th></th>\n",
       "      <th></th>\n",
       "      <th></th>\n",
       "      <th></th>\n",
       "      <th></th>\n",
       "      <th></th>\n",
       "      <th></th>\n",
       "    </tr>\n",
       "  </thead>\n",
       "  <tbody>\n",
       "    <tr>\n",
       "      <th>2007-01-04</th>\n",
       "      <td>19.660000</td>\n",
       "      <td>19.860001</td>\n",
       "      <td>19.320000</td>\n",
       "      <td>19.790001</td>\n",
       "      <td>19.790001</td>\n",
       "      <td>23652500</td>\n",
       "      <td>-0.006612</td>\n",
       "      <td>0.027950</td>\n",
       "      <td>0</td>\n",
       "      <td>0</td>\n",
       "      <td>0</td>\n",
       "      <td>0.013832</td>\n",
       "    </tr>\n",
       "    <tr>\n",
       "      <th>2007-01-05</th>\n",
       "      <td>19.540001</td>\n",
       "      <td>19.910000</td>\n",
       "      <td>19.540001</td>\n",
       "      <td>19.709999</td>\n",
       "      <td>19.709999</td>\n",
       "      <td>15902400</td>\n",
       "      <td>-0.008700</td>\n",
       "      <td>0.018935</td>\n",
       "      <td>0</td>\n",
       "      <td>1</td>\n",
       "      <td>0</td>\n",
       "      <td>-0.004043</td>\n",
       "    </tr>\n",
       "    <tr>\n",
       "      <th>2007-01-08</th>\n",
       "      <td>19.709999</td>\n",
       "      <td>19.860001</td>\n",
       "      <td>19.370001</td>\n",
       "      <td>19.469999</td>\n",
       "      <td>19.469999</td>\n",
       "      <td>15814800</td>\n",
       "      <td>0.012177</td>\n",
       "      <td>0.025297</td>\n",
       "      <td>0</td>\n",
       "      <td>0</td>\n",
       "      <td>1</td>\n",
       "      <td>-0.012177</td>\n",
       "    </tr>\n",
       "    <tr>\n",
       "      <th>2007-01-09</th>\n",
       "      <td>19.450001</td>\n",
       "      <td>19.709999</td>\n",
       "      <td>19.370001</td>\n",
       "      <td>19.650000</td>\n",
       "      <td>19.650000</td>\n",
       "      <td>14494200</td>\n",
       "      <td>-0.010283</td>\n",
       "      <td>0.017553</td>\n",
       "      <td>1</td>\n",
       "      <td>1</td>\n",
       "      <td>1</td>\n",
       "      <td>0.009245</td>\n",
       "    </tr>\n",
       "    <tr>\n",
       "      <th>2007-01-10</th>\n",
       "      <td>19.639999</td>\n",
       "      <td>20.020000</td>\n",
       "      <td>19.500000</td>\n",
       "      <td>20.010000</td>\n",
       "      <td>20.010000</td>\n",
       "      <td>19783200</td>\n",
       "      <td>-0.018839</td>\n",
       "      <td>0.026667</td>\n",
       "      <td>1</td>\n",
       "      <td>1</td>\n",
       "      <td>1</td>\n",
       "      <td>0.018321</td>\n",
       "    </tr>\n",
       "    <tr>\n",
       "      <th>...</th>\n",
       "      <td>...</td>\n",
       "      <td>...</td>\n",
       "      <td>...</td>\n",
       "      <td>...</td>\n",
       "      <td>...</td>\n",
       "      <td>...</td>\n",
       "      <td>...</td>\n",
       "      <td>...</td>\n",
       "      <td>...</td>\n",
       "      <td>...</td>\n",
       "      <td>...</td>\n",
       "      <td>...</td>\n",
       "    </tr>\n",
       "    <tr>\n",
       "      <th>2018-12-21</th>\n",
       "      <td>18.120001</td>\n",
       "      <td>18.340000</td>\n",
       "      <td>16.760000</td>\n",
       "      <td>16.930000</td>\n",
       "      <td>16.930000</td>\n",
       "      <td>132246000</td>\n",
       "      <td>0.065673</td>\n",
       "      <td>0.094272</td>\n",
       "      <td>0</td>\n",
       "      <td>0</td>\n",
       "      <td>0</td>\n",
       "      <td>-0.056299</td>\n",
       "    </tr>\n",
       "    <tr>\n",
       "      <th>2018-12-24</th>\n",
       "      <td>16.520000</td>\n",
       "      <td>17.219999</td>\n",
       "      <td>16.370001</td>\n",
       "      <td>16.650000</td>\n",
       "      <td>16.650000</td>\n",
       "      <td>62933100</td>\n",
       "      <td>-0.007869</td>\n",
       "      <td>0.051924</td>\n",
       "      <td>1</td>\n",
       "      <td>1</td>\n",
       "      <td>1</td>\n",
       "      <td>-0.016539</td>\n",
       "    </tr>\n",
       "    <tr>\n",
       "      <th>2018-12-26</th>\n",
       "      <td>16.879999</td>\n",
       "      <td>17.910000</td>\n",
       "      <td>16.030001</td>\n",
       "      <td>17.900000</td>\n",
       "      <td>17.900000</td>\n",
       "      <td>108811800</td>\n",
       "      <td>-0.060427</td>\n",
       "      <td>0.117280</td>\n",
       "      <td>1</td>\n",
       "      <td>1</td>\n",
       "      <td>0</td>\n",
       "      <td>0.075075</td>\n",
       "    </tr>\n",
       "    <tr>\n",
       "      <th>2018-12-27</th>\n",
       "      <td>17.430000</td>\n",
       "      <td>17.740000</td>\n",
       "      <td>16.440001</td>\n",
       "      <td>17.490000</td>\n",
       "      <td>17.490000</td>\n",
       "      <td>111373000</td>\n",
       "      <td>-0.003442</td>\n",
       "      <td>0.079075</td>\n",
       "      <td>0</td>\n",
       "      <td>1</td>\n",
       "      <td>1</td>\n",
       "      <td>-0.022905</td>\n",
       "    </tr>\n",
       "    <tr>\n",
       "      <th>2018-12-28</th>\n",
       "      <td>17.530001</td>\n",
       "      <td>18.309999</td>\n",
       "      <td>17.139999</td>\n",
       "      <td>17.820000</td>\n",
       "      <td>17.820000</td>\n",
       "      <td>109214400</td>\n",
       "      <td>-0.016543</td>\n",
       "      <td>0.068261</td>\n",
       "      <td>0</td>\n",
       "      <td>0</td>\n",
       "      <td>0</td>\n",
       "      <td>0.018868</td>\n",
       "    </tr>\n",
       "  </tbody>\n",
       "</table>\n",
       "<p>3018 rows × 12 columns</p>\n",
       "</div>"
      ],
      "text/plain": [
       "                 Open       High        Low      Close  Adj Close     Volume  \\\n",
       "Date                                                                           \n",
       "2007-01-04  19.660000  19.860001  19.320000  19.790001  19.790001   23652500   \n",
       "2007-01-05  19.540001  19.910000  19.540001  19.709999  19.709999   15902400   \n",
       "2007-01-08  19.709999  19.860001  19.370001  19.469999  19.469999   15814800   \n",
       "2007-01-09  19.450001  19.709999  19.370001  19.650000  19.650000   14494200   \n",
       "2007-01-10  19.639999  20.020000  19.500000  20.010000  20.010000   19783200   \n",
       "...               ...        ...        ...        ...        ...        ...   \n",
       "2018-12-21  18.120001  18.340000  16.760000  16.930000  16.930000  132246000   \n",
       "2018-12-24  16.520000  17.219999  16.370001  16.650000  16.650000   62933100   \n",
       "2018-12-26  16.879999  17.910000  16.030001  17.900000  17.900000  108811800   \n",
       "2018-12-27  17.430000  17.740000  16.440001  17.490000  17.490000  111373000   \n",
       "2018-12-28  17.530001  18.309999  17.139999  17.820000  17.820000  109214400   \n",
       "\n",
       "            Open_Close  High_Low  Increase_Decrease  Buy_Sell_on_Open  \\\n",
       "Date                                                                    \n",
       "2007-01-04   -0.006612  0.027950                  0                 0   \n",
       "2007-01-05   -0.008700  0.018935                  0                 1   \n",
       "2007-01-08    0.012177  0.025297                  0                 0   \n",
       "2007-01-09   -0.010283  0.017553                  1                 1   \n",
       "2007-01-10   -0.018839  0.026667                  1                 1   \n",
       "...                ...       ...                ...               ...   \n",
       "2018-12-21    0.065673  0.094272                  0                 0   \n",
       "2018-12-24   -0.007869  0.051924                  1                 1   \n",
       "2018-12-26   -0.060427  0.117280                  1                 1   \n",
       "2018-12-27   -0.003442  0.079075                  0                 1   \n",
       "2018-12-28   -0.016543  0.068261                  0                 0   \n",
       "\n",
       "            Buy_Sell   Returns  \n",
       "Date                            \n",
       "2007-01-04         0  0.013832  \n",
       "2007-01-05         0 -0.004043  \n",
       "2007-01-08         1 -0.012177  \n",
       "2007-01-09         1  0.009245  \n",
       "2007-01-10         1  0.018321  \n",
       "...              ...       ...  \n",
       "2018-12-21         0 -0.056299  \n",
       "2018-12-24         1 -0.016539  \n",
       "2018-12-26         0  0.075075  \n",
       "2018-12-27         1 -0.022905  \n",
       "2018-12-28         0  0.018868  \n",
       "\n",
       "[3018 rows x 12 columns]"
      ]
     },
     "execution_count": 5,
     "metadata": {},
     "output_type": "execute_result"
    }
   ],
   "source": [
    "# view dataset\n",
    "dataset"
   ]
  },
  {
   "cell_type": "markdown",
   "metadata": {},
   "source": [
    "# **Dataset Cleaning and Null Value Testing**"
   ]
  },
  {
   "cell_type": "code",
   "execution_count": 6,
   "metadata": {},
   "outputs": [
    {
     "data": {
      "text/plain": [
       "Open                 0\n",
       "High                 0\n",
       "Low                  0\n",
       "Close                0\n",
       "Adj Close            0\n",
       "Volume               0\n",
       "Open_Close           0\n",
       "High_Low             0\n",
       "Increase_Decrease    0\n",
       "Buy_Sell_on_Open     0\n",
       "Buy_Sell             0\n",
       "Returns              0\n",
       "dtype: int64"
      ]
     },
     "execution_count": 6,
     "metadata": {},
     "output_type": "execute_result"
    }
   ],
   "source": [
    "# view how many null values in each column\n",
    "dataset.isnull().sum()"
   ]
  },
  {
   "cell_type": "code",
   "execution_count": 7,
   "metadata": {},
   "outputs": [
    {
     "data": {
      "image/png": "[encoded data removed]",
      "text/plain": [
       "<Figure size 864x288 with 1 Axes>"
      ]
     },
     "metadata": {
      "needs_background": "light"
     },
     "output_type": "display_data"
    }
   ],
   "source": [
    "plt.figure(figsize=(12,4))\n",
    "sns.heatmap(dataset.isnull(), yticklabels=False,cbar=False,cmap='viridis')\n",
    "plt.savefig(\"Figure 1: Heatmap for Null Values\")"
   ]
  },
  {
   "cell_type": "markdown",
   "metadata": {},
   "source": [
    "# **Analyze the Dataset**"
   ]
  },
  {
   "cell_type": "code",
   "execution_count": 8,
   "metadata": {},
   "outputs": [
    {
     "data": {
      "text/plain": [
       "(3018, 12)"
      ]
     },
     "execution_count": 8,
     "metadata": {},
     "output_type": "execute_result"
    }
   ],
   "source": [
    "# view number of rows, number of columns\n",
    "dataset.shape"
   ]
  },
  {
   "cell_type": "code",
   "execution_count": 9,
   "metadata": {},
   "outputs": [
    {
     "name": "stdout",
     "output_type": "stream",
     "text": [
      "Total number of records =  36216\n"
     ]
    }
   ],
   "source": [
    "# total number of records\n",
    "dataset.size\n",
    "print(\"Total number of records = \",dataset.size)"
   ]
  },
  {
   "cell_type": "code",
   "execution_count": 10,
   "metadata": {},
   "outputs": [
    {
     "data": {
      "text/plain": [
       "Index(['Open', 'High', 'Low', 'Close', 'Adj Close', 'Volume', 'Open_Close',\n",
       "       'High_Low', 'Increase_Decrease', 'Buy_Sell_on_Open', 'Buy_Sell',\n",
       "       'Returns'],\n",
       "      dtype='object')"
      ]
     },
     "execution_count": 10,
     "metadata": {},
     "output_type": "execute_result"
    }
   ],
   "source": [
    "# view columns names\n",
    "dataset.columns"
   ]
  },
  {
   "cell_type": "code",
   "execution_count": 11,
   "metadata": {},
   "outputs": [
    {
     "data": {
      "text/plain": [
       "Open                 float64\n",
       "High                 float64\n",
       "Low                  float64\n",
       "Close                float64\n",
       "Adj Close            float64\n",
       "Volume                 int64\n",
       "Open_Close           float64\n",
       "High_Low             float64\n",
       "Increase_Decrease      int32\n",
       "Buy_Sell_on_Open       int32\n",
       "Buy_Sell               int32\n",
       "Returns              float64\n",
       "dtype: object"
      ]
     },
     "execution_count": 11,
     "metadata": {},
     "output_type": "execute_result"
    }
   ],
   "source": [
    "# view data types of the columns\n",
    "dataset.dtypes"
   ]
  },
  {
   "cell_type": "code",
   "execution_count": 12,
   "metadata": {},
   "outputs": [
    {
     "name": "stdout",
     "output_type": "stream",
     "text": [
      "<class 'pandas.core.frame.DataFrame'>\n",
      "DatetimeIndex: 3018 entries, 2007-01-04 to 2018-12-28\n",
      "Data columns (total 12 columns):\n",
      " #   Column             Non-Null Count  Dtype  \n",
      "---  ------             --------------  -----  \n",
      " 0   Open               3018 non-null   float64\n",
      " 1   High               3018 non-null   float64\n",
      " 2   Low                3018 non-null   float64\n",
      " 3   Close              3018 non-null   float64\n",
      " 4   Adj Close          3018 non-null   float64\n",
      " 5   Volume             3018 non-null   int64  \n",
      " 6   Open_Close         3018 non-null   float64\n",
      " 7   High_Low           3018 non-null   float64\n",
      " 8   Increase_Decrease  3018 non-null   int32  \n",
      " 9   Buy_Sell_on_Open   3018 non-null   int32  \n",
      " 10  Buy_Sell           3018 non-null   int32  \n",
      " 11  Returns            3018 non-null   float64\n",
      "dtypes: float64(8), int32(3), int64(1)\n",
      "memory usage: 271.1 KB\n"
     ]
    }
   ],
   "source": [
    "# view dataset info\n",
    "dataset.info()"
   ]
  },
  {
   "cell_type": "code",
   "execution_count": 13,
   "metadata": {},
   "outputs": [
    {
     "data": {
      "text/html": [
       "<div>\n",
       "<style scoped>\n",
       "    .dataframe tbody tr th:only-of-type {\n",
       "        vertical-align: middle;\n",
       "    }\n",
       "\n",
       "    .dataframe tbody tr th {\n",
       "        vertical-align: top;\n",
       "    }\n",
       "\n",
       "    .dataframe thead th {\n",
       "        text-align: right;\n",
       "    }\n",
       "</style>\n",
       "<table border=\"1\" class=\"dataframe\">\n",
       "  <thead>\n",
       "    <tr style=\"text-align: right;\">\n",
       "      <th></th>\n",
       "      <th>Open</th>\n",
       "      <th>High</th>\n",
       "      <th>Low</th>\n",
       "      <th>Close</th>\n",
       "      <th>Adj Close</th>\n",
       "      <th>Volume</th>\n",
       "      <th>Open_Close</th>\n",
       "      <th>High_Low</th>\n",
       "      <th>Increase_Decrease</th>\n",
       "      <th>Buy_Sell_on_Open</th>\n",
       "      <th>Buy_Sell</th>\n",
       "      <th>Returns</th>\n",
       "    </tr>\n",
       "  </thead>\n",
       "  <tbody>\n",
       "    <tr>\n",
       "      <th>count</th>\n",
       "      <td>3018.000000</td>\n",
       "      <td>3018.000000</td>\n",
       "      <td>3018.000000</td>\n",
       "      <td>3018.000000</td>\n",
       "      <td>3018.000000</td>\n",
       "      <td>3.018000e+03</td>\n",
       "      <td>3018.000000</td>\n",
       "      <td>3018.000000</td>\n",
       "      <td>3018.000000</td>\n",
       "      <td>3018.000000</td>\n",
       "      <td>3018.000000</td>\n",
       "      <td>3018.000000</td>\n",
       "    </tr>\n",
       "    <tr>\n",
       "      <th>mean</th>\n",
       "      <td>7.310083</td>\n",
       "      <td>7.464099</td>\n",
       "      <td>7.140699</td>\n",
       "      <td>7.300109</td>\n",
       "      <td>7.300109</td>\n",
       "      <td>3.208842e+07</td>\n",
       "      <td>0.000972</td>\n",
       "      <td>0.047326</td>\n",
       "      <td>0.479125</td>\n",
       "      <td>0.478131</td>\n",
       "      <td>0.482107</td>\n",
       "      <td>0.000695</td>\n",
       "    </tr>\n",
       "    <tr>\n",
       "      <th>std</th>\n",
       "      <td>5.036123</td>\n",
       "      <td>5.150326</td>\n",
       "      <td>4.905780</td>\n",
       "      <td>5.030512</td>\n",
       "      <td>5.030512</td>\n",
       "      <td>3.008090e+07</td>\n",
       "      <td>0.031819</td>\n",
       "      <td>0.034146</td>\n",
       "      <td>0.499647</td>\n",
       "      <td>0.499604</td>\n",
       "      <td>0.499763</td>\n",
       "      <td>0.038372</td>\n",
       "    </tr>\n",
       "    <tr>\n",
       "      <th>min</th>\n",
       "      <td>1.620000</td>\n",
       "      <td>1.690000</td>\n",
       "      <td>1.610000</td>\n",
       "      <td>1.620000</td>\n",
       "      <td>1.620000</td>\n",
       "      <td>0.000000e+00</td>\n",
       "      <td>-0.250784</td>\n",
       "      <td>0.000000</td>\n",
       "      <td>0.000000</td>\n",
       "      <td>0.000000</td>\n",
       "      <td>0.000000</td>\n",
       "      <td>-0.242291</td>\n",
       "    </tr>\n",
       "    <tr>\n",
       "      <th>25%</th>\n",
       "      <td>3.620000</td>\n",
       "      <td>3.690000</td>\n",
       "      <td>3.540000</td>\n",
       "      <td>3.612500</td>\n",
       "      <td>3.612500</td>\n",
       "      <td>1.482710e+07</td>\n",
       "      <td>-0.015044</td>\n",
       "      <td>0.027894</td>\n",
       "      <td>0.000000</td>\n",
       "      <td>0.000000</td>\n",
       "      <td>0.000000</td>\n",
       "      <td>-0.017641</td>\n",
       "    </tr>\n",
       "    <tr>\n",
       "      <th>50%</th>\n",
       "      <td>6.115000</td>\n",
       "      <td>6.250000</td>\n",
       "      <td>5.970000</td>\n",
       "      <td>6.120000</td>\n",
       "      <td>6.120000</td>\n",
       "      <td>2.267490e+07</td>\n",
       "      <td>0.001884</td>\n",
       "      <td>0.038835</td>\n",
       "      <td>0.000000</td>\n",
       "      <td>0.000000</td>\n",
       "      <td>0.000000</td>\n",
       "      <td>0.000000</td>\n",
       "    </tr>\n",
       "    <tr>\n",
       "      <th>75%</th>\n",
       "      <td>9.750000</td>\n",
       "      <td>9.900000</td>\n",
       "      <td>9.545000</td>\n",
       "      <td>9.717500</td>\n",
       "      <td>9.717500</td>\n",
       "      <td>3.698055e+07</td>\n",
       "      <td>0.018259</td>\n",
       "      <td>0.057099</td>\n",
       "      <td>1.000000</td>\n",
       "      <td>1.000000</td>\n",
       "      <td>1.000000</td>\n",
       "      <td>0.018662</td>\n",
       "    </tr>\n",
       "    <tr>\n",
       "      <th>max</th>\n",
       "      <td>33.180000</td>\n",
       "      <td>34.139999</td>\n",
       "      <td>32.189999</td>\n",
       "      <td>32.720001</td>\n",
       "      <td>32.720001</td>\n",
       "      <td>3.250584e+08</td>\n",
       "      <td>0.155379</td>\n",
       "      <td>1.000000</td>\n",
       "      <td>1.000000</td>\n",
       "      <td>1.000000</td>\n",
       "      <td>1.000000</td>\n",
       "      <td>0.522901</td>\n",
       "    </tr>\n",
       "  </tbody>\n",
       "</table>\n",
       "</div>"
      ],
      "text/plain": [
       "              Open         High          Low        Close    Adj Close  \\\n",
       "count  3018.000000  3018.000000  3018.000000  3018.000000  3018.000000   \n",
       "mean      7.310083     7.464099     7.140699     7.300109     7.300109   \n",
       "std       5.036123     5.150326     4.905780     5.030512     5.030512   \n",
       "min       1.620000     1.690000     1.610000     1.620000     1.620000   \n",
       "25%       3.620000     3.690000     3.540000     3.612500     3.612500   \n",
       "50%       6.115000     6.250000     5.970000     6.120000     6.120000   \n",
       "75%       9.750000     9.900000     9.545000     9.717500     9.717500   \n",
       "max      33.180000    34.139999    32.189999    32.720001    32.720001   \n",
       "\n",
       "             Volume   Open_Close     High_Low  Increase_Decrease  \\\n",
       "count  3.018000e+03  3018.000000  3018.000000        3018.000000   \n",
       "mean   3.208842e+07     0.000972     0.047326           0.479125   \n",
       "std    3.008090e+07     0.031819     0.034146           0.499647   \n",
       "min    0.000000e+00    -0.250784     0.000000           0.000000   \n",
       "25%    1.482710e+07    -0.015044     0.027894           0.000000   \n",
       "50%    2.267490e+07     0.001884     0.038835           0.000000   \n",
       "75%    3.698055e+07     0.018259     0.057099           1.000000   \n",
       "max    3.250584e+08     0.155379     1.000000           1.000000   \n",
       "\n",
       "       Buy_Sell_on_Open     Buy_Sell      Returns  \n",
       "count       3018.000000  3018.000000  3018.000000  \n",
       "mean           0.478131     0.482107     0.000695  \n",
       "std            0.499604     0.499763     0.038372  \n",
       "min            0.000000     0.000000    -0.242291  \n",
       "25%            0.000000     0.000000    -0.017641  \n",
       "50%            0.000000     0.000000     0.000000  \n",
       "75%            1.000000     1.000000     0.018662  \n",
       "max            1.000000     1.000000     0.522901  "
      ]
     },
     "execution_count": 13,
     "metadata": {},
     "output_type": "execute_result"
    }
   ],
   "source": [
    "# view the statistics per each column\n",
    "dataset.describe()"
   ]
  },
  {
   "cell_type": "code",
   "execution_count": 14,
   "metadata": {},
   "outputs": [
    {
     "data": {
      "text/plain": [
       "array([[<AxesSubplot:title={'center':'Open'}>,\n",
       "        <AxesSubplot:title={'center':'High'}>,\n",
       "        <AxesSubplot:title={'center':'Low'}>],\n",
       "       [<AxesSubplot:title={'center':'Close'}>,\n",
       "        <AxesSubplot:title={'center':'Adj Close'}>,\n",
       "        <AxesSubplot:title={'center':'Volume'}>],\n",
       "       [<AxesSubplot:title={'center':'Open_Close'}>,\n",
       "        <AxesSubplot:title={'center':'High_Low'}>,\n",
       "        <AxesSubplot:title={'center':'Increase_Decrease'}>],\n",
       "       [<AxesSubplot:title={'center':'Buy_Sell_on_Open'}>,\n",
       "        <AxesSubplot:title={'center':'Buy_Sell'}>,\n",
       "        <AxesSubplot:title={'center':'Returns'}>]], dtype=object)"
      ]
     },
     "execution_count": 14,
     "metadata": {},
     "output_type": "execute_result"
    },
    {
     "data": {
      "image/png": "[encoded data removed]",
      "text/plain": [
       "<Figure size 1080x1080 with 12 Axes>"
      ]
     },
     "metadata": {
      "needs_background": "light"
     },
     "output_type": "display_data"
    }
   ],
   "source": [
    "# view the histogram per each numerical column\n",
    "dataset.hist(figsize=(15, 15))"
   ]
  },
  {
   "cell_type": "code",
   "execution_count": 15,
   "metadata": {},
   "outputs": [
    {
     "data": {
      "text/plain": [
       "<AxesSubplot:xlabel='Adj Close', ylabel='Density'>"
      ]
     },
     "execution_count": 15,
     "metadata": {},
     "output_type": "execute_result"
    },
    {
     "data": {
      "image/png": "[encoded data removed]",
      "text/plain": [
       "<Figure size 432x288 with 1 Axes>"
      ]
     },
     "metadata": {
      "needs_background": "light"
     },
     "output_type": "display_data"
    }
   ],
   "source": [
    "sns.distplot(dataset['Adj Close'])"
   ]
  },
  {
   "cell_type": "code",
   "execution_count": 16,
   "metadata": {},
   "outputs": [
    {
     "data": {
      "text/plain": [
       "<AxesSubplot:>"
      ]
     },
     "execution_count": 16,
     "metadata": {},
     "output_type": "execute_result"
    },
    {
     "data": {
      "image/png": "[encoded data removed]",
      "text/plain": [
       "<Figure size 432x288 with 2 Axes>"
      ]
     },
     "metadata": {
      "needs_background": "light"
     },
     "output_type": "display_data"
    }
   ],
   "source": [
    "sns.heatmap(dataset.corr())"
   ]
  },
  {
   "cell_type": "markdown",
   "metadata": {},
   "source": [
    "# **Define X and Y**"
   ]
  },
  {
   "cell_type": "code",
   "execution_count": 17,
   "metadata": {},
   "outputs": [],
   "source": [
    "X = dataset[['Open', 'High', 'Low','Volume', 'Open_Close', 'High_Low', 'Returns']]\n",
    "y = dataset['Adj Close']"
   ]
  }
 ],
 "metadata": {
  "colab": {
   "collapsed_sections": [
    "VUbbWNHO86Ay",
    "bC-terfV7pNG",
    "o038psce8wIc",
    "c-hbl3dB9Dn7",
    "t89qCVw48Owp"
   ],
   "name": " Linear_Regression.ipynb",
   "provenance": []
  },
  "interpreter": {
   "hash": "ff4f85d6e04298634172ac5d8264e7e9b556b95639fe52ebb9425c4d4cba0c9c"
  },
  "kernelspec": {
   "display_name": "Python 3.9.12 ('base')",
   "language": "python",
   "name": "python3"
  },
  "language_info": {
   "codemirror_mode": {
    "name": "ipython",
    "version": 3
   },
   "file_extension": ".py",
   "mimetype": "text/x-python",
   "name": "python",
   "nbconvert_exporter": "python",
   "pygments_lexer": "ipython3",
   "version": "3.9.12"
  }
 },
 "nbformat": 4,
 "nbformat_minor": 1
}
